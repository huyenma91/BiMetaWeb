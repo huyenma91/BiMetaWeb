{
 "cells": [
  {
   "cell_type": "code",
   "execution_count": 53,
   "metadata": {},
   "outputs": [],
   "source": [
    "from sklearn.cluster import KMeans\n",
    "from sklearn import preprocessing\n",
    "\n",
    "import gensim\n",
    "from gensim import corpora\n",
    "import sys\n",
    "import re\n",
    "import json\n",
    "import numpy as np\n",
    "from sklearn.metrics import confusion_matrix"
   ]
  },
  {
   "cell_type": "code",
   "execution_count": 41,
   "metadata": {},
   "outputs": [],
   "source": [
    "FILENAME_GL = \"/home/dhuy237/thesis/code/bimetaReduce/bimeta/data/test/output_2_2/part-00000\"\n",
    "FILENAME_CORPUS = \"/home/dhuy237/thesis/code/bimetaReduce/bimeta/data/test/output_1_3.txt\"\n",
    "FILENAME_LABELS = \"/home/dhuy237/thesis/code/bimetaReduce/bimeta/data/test/output_1_1/part-00000\""
   ]
  },
  {
   "cell_type": "code",
   "execution_count": 12,
   "metadata": {},
   "outputs": [],
   "source": [
    "DICTIONARY_PATH = \"/home/dhuy237/thesis/code/bimetaReduce/bimeta/data/test/dictionary.pkl\""
   ]
  },
  {
   "cell_type": "code",
   "execution_count": 37,
   "metadata": {},
   "outputs": [],
   "source": [
    "NUM_OF_SPECIES = 2\n",
    "GROUP_AGGREGATION = \"MEAN\"  # MEAN or MEDIAN\n",
    "SCALING = True\n",
    "CLUSTERING_METHOD = \"KMEANS\""
   ]
  },
  {
   "cell_type": "code",
   "execution_count": 25,
   "metadata": {},
   "outputs": [],
   "source": [
    "def read_group(filename_gl):\n",
    "    GL = []\n",
    "\n",
    "    with open(filename_gl) as f:\n",
    "        content_vertices = f.readlines()\n",
    "\n",
    "    for line in content_vertices:\n",
    "        clean_line = re.sub(\"[\\t\\n\\[\\]\\'']\", '', line).replace(' ', '').split(',')\n",
    "        GL.append(list(map(int, clean_line))) # Convert all strings in a list to int\n",
    "\n",
    "    return GL"
   ]
  },
  {
   "cell_type": "code",
   "execution_count": 26,
   "metadata": {},
   "outputs": [],
   "source": [
    "def load_dictionary(dictionary_path):\n",
    "    dictionary = corpora.Dictionary.load(dictionary_path)\n",
    "    return dictionary"
   ]
  },
  {
   "cell_type": "code",
   "execution_count": 27,
   "metadata": {},
   "outputs": [],
   "source": [
    "def read_corpus(filename_corpus):\n",
    "    corpus = []\n",
    "\n",
    "    with open(filename_corpus) as f:\n",
    "        content_corpus = f.readlines()\n",
    "\n",
    "    for line in content_corpus:\n",
    "        clean_line = json.loads(line.replace('null\\t', '{\"a\":').replace(\"\\n\", \"}\"))[\"a\"][1]\n",
    "        corpus.append(clean_line)\n",
    "    \n",
    "    return corpus"
   ]
  },
  {
   "cell_type": "code",
   "execution_count": 29,
   "metadata": {},
   "outputs": [
    {
     "data": {
      "text/plain": [
       "[[699], [438], [1251], [1195], [898]]"
      ]
     },
     "execution_count": 29,
     "metadata": {},
     "output_type": "execute_result"
    }
   ],
   "source": [
    "# Test read_group()\n",
    "GL = []\n",
    "\n",
    "with open(FILENAME_GL) as f:\n",
    "    content_vertices = f.readlines()\n",
    "\n",
    "for line in content_vertices:\n",
    "    clean_line = re.sub(\"[\\t\\n\\[\\]\\'']\", '', line).replace(' ', '').split(',')\n",
    "    GL.append(list(map(int, clean_line))) # Convert all strings in a list to int\n",
    "GL[:5]"
   ]
  },
  {
   "cell_type": "code",
   "execution_count": 49,
   "metadata": {},
   "outputs": [],
   "source": [
    "def cluster_groups(group_dist, num_of_species):\n",
    "    if SCALING:\n",
    "        scaler = preprocessing.StandardScaler()\n",
    "        X_scaled = scaler.fit_transform(group_dist)\n",
    "    else:\n",
    "        X_scaled = group_dist\n",
    "\n",
    "    if CLUSTERING_METHOD == 'KMEANS':\n",
    "        # clustering by k-means\n",
    "        kmeans = KMeans(n_clusters=num_of_species, init='k-means++')\n",
    "        y_grp_cl = kmeans.fit_predict(X_scaled)\n",
    "        \n",
    "    elif CLUSTERING_METHOD == 'SPECTRAL':\n",
    "        spectral = SpectralClustering(n_clusters=num_of_species, eigen_solver='arpack',\n",
    "                                      affinity=\"nearest_neighbors\")\n",
    "        #spectral = SpectralClustering(n_clusters=NUM_OF_SPECIES, eigen_solver='arpack',\n",
    "        #                              affinity=\"rbf\")\n",
    "        y_grp_cl = spectral.fit_predict(X_scaled)\n",
    "\n",
    "    return y_grp_cl\n",
    "\n",
    "def compute_dist(dist, groups, seeds, only_seed=True):\n",
    "    res = []\n",
    "    if only_seed:\n",
    "        for seednodes in seeds:\n",
    "            tmp = dist[seednodes, :]\n",
    "            if GROUP_AGGREGATION == \"MEAN\":\n",
    "                res += [np.mean(tmp, axis=0)]\n",
    "            elif GROUP_AGGREGATION == \"MEDIAN\":\n",
    "                res += [np.median(tmp, axis=0)]\n",
    "    else:\n",
    "        for groupnodes in groups:\n",
    "            tmp = dist[groupnodes, :]\n",
    "            if GROUP_AGGREGATION == \"MEAN\":\n",
    "                res += [np.mean(tmp, axis=0)]\n",
    "\n",
    "            elif GROUP_AGGREGATION == \"MEDIAN\":\n",
    "                res += [np.median(tmp, axis=0)]\n",
    "                \n",
    "    return np.array(res)\n",
    "\n",
    "def clustering(dictionary_path, filename_corpus, filename_gl, num_of_species):\n",
    "    # Load dictionary, corpus and group list\n",
    "    dictionary = load_dictionary(dictionary_path)\n",
    "    corpus = read_corpus(filename_corpus)\n",
    "    GL = read_group(filename_gl)\n",
    "\n",
    "    corpus_m = gensim.matutils.corpus2dense(corpus, len(dictionary.keys())).T\n",
    "\n",
    "    # Not implemented to get seed list yet\n",
    "    SL = []\n",
    "\n",
    "    # Training the clustering model\n",
    "    kmer_group_dist = compute_dist(corpus_m, GL, SL, only_seed=False)\n",
    "\n",
    "    model = cluster_groups(kmer_group_dist, num_of_species)\n",
    "    \n",
    "    y_kmer_grp_cl = assign_cluster_2_reads(GL, model)\n",
    "\n",
    "    return y_kmer_grp_cl"
   ]
  },
  {
   "cell_type": "markdown",
   "metadata": {},
   "source": [
    "Read label file"
   ]
  },
  {
   "cell_type": "code",
   "execution_count": 43,
   "metadata": {},
   "outputs": [
    {
     "data": {
      "text/plain": [
       "['null\\t[0, [\"AAACCCTCTTCCACGAACCCTCTTGAAAATCCCCCACATCCACAAAATAAATCAAATAAATTTCAACATTATCACCAAAAGGGTAAAAGGTTATTTAAAAAATAAAATAAATTTAAAAATTTAAATTAAATACCAAAAAAGCCAAATAACTTATTGTGATTCTTGAGCTTTCTTTAACTCTGCCTTCATATCTTGATAGACTTTAGTCCATTTTAATTTTCTTGGATTTCTTCCCATTCTGTAGCTTTTCTCACATTTGGATGAGCAGAAATATAATACAGTCCCATCTTTTTCTACGACCATTTTTCCTTTTCCTGGCTCAATTTCATAACCACAAAAGCTGCATGTTCTCCATTCTGGCATAGCTATCCCCCTTTAATAGTGTTTCAGTGATTTTAAAATAATTTAAGATTAAATTATTTATCTTCTTCTGTCTAATGGTCTTGCTTCTCTCTCTGTTTCTCTTAACATAATAATGTCTCCAACTTTAACTGGACCTTTAACGTTTCTAACTAAAACTCTTCCAGTATCTTTTCCACCTAAGATTTTACATCTAACTTGTATAATTCCTCCAGTAACCCCTGTTCTACCAATGACTTCAATAACTTCAGCAGCTACTGCTTCCTTATAAACAAATTCATCTTCCGATCCTCATCACCTAATATTAATGAAGGTTTAAAATTTATAAAAAAGTTAGTAGTAGTGTTTCATAATTTATATAATAATAACTATATACTATTGATTGATGGTTAAATAGCGTTCTAATAATTTACTGCTTCAAAACATTTACCTTTTCAATTAATACCTTTAACTCTTCAGCATCTCCTTCGTTG\", \"0\"]]\\n',\n",
       " 'null\\t[1, [\"TAGCATGTAAATCCCTTATTTCTTAATTTCTCCCAGAATTATTTCTATTGCTTTATCAACTGCCTTGGCAACCTCTTCAGACAACCCTGGTTTTATGTCTGGCATTGTAAATTTTTACCTTGACAACCAATAACCACGACTTCTATGCCTTTATTATGTAAATCTTTGAGAAATGGGGCTAATGGAACGTTATGGGCATCGAAAGAATATTTTTTAACTATTCGGTAATTCATCAACATCTATCTTTTTTATTGTTCCAGGTTCTAAATCAAAATCAATGGCGATCAACAACAATAATCTTTTTTATATCTTCATCAACCAACGTCATTAAATAGTATGCTCCACTTGCCCCAGCATCTATAACTTCAACGTTATCTGGCAAGTTCATTTTTTCTAATTTGCTAACAACCTCACATCCAAAGCCATCATCTCCAAACAACAGATTTCCACAACCAACAATTAATATATCCTTCTTTTTCATTTTATCACTTATTTAGCATTTCTTTATATTTTTTAGCCTCTTCTTTAGGATTTTGTGATTGATAGATTGCCCTTCCAACAATGACGTAATCATTCTCATCTAAAATATTTAAAATATCCTCAATCTTCCCTCCCTGAGCTCCGACTCCGTGGTGTTATTACTGGCAATTCTGCAATTTCTTTAATTTCTTTAAGCCTTTCAGGCCTTGTTGATGGAGCAACTATAGCATCAACTTTTAGTTTTTTTAGCCATCTCTGACAATTTATCTGCTATTGGCTGTAG\", \"0\"]]\\n',\n",
       " 'null\\t[2, [\"CTCCACTTGTTAGAAAAAGATTTATACTAAACTAAGATATTAGGTTTTAATTAAATTTAAATCAGACTGAGGGAGAGGTATGAAAATCTCTATCTGTGGAAAGGGAGGCTGTGGAAAAGCTCTATAACAACTTTATTGGCAAAGGAGTTTGCTAAAAAAGGACATAATGTCTTGGTTATTGATGGAGACGAATCTAATCTAAGTTTGCATAAATTGCTTGGTATGGATTTGCCAAAGGACTTTATAGAGTATCTTGGAGGACGAAAGGAGTTCATGAAGAAGTTGAGAGAAAAAATGGATGGTAAAGAAGTTGAGTTATTTGAGGGAGAGATATCTATAGATTCTTTACCAAAAGAGTATTTAGTAGAGAAAGATAATATCAAACTTTTAGCAATTGGAAAAATCCATGATTTTGGAGAAGGTTGTGCATGTCCAATGGGTGCTTTGTTAAGAGAGTTTTTAAAATCTTTAAAGTTGAAGGATAAAGAGGTTGTTATCGTTGACACTGAAGCTGGAATAGAGCATTTTGGTAGAGGGGTTGAGGGAGGATGTGATGTTATTATTGCAATTATAGACCCAACCTATGAATCAATAAGATTATCTAAGAAGATAGAGGAAATTGGAGAGAAATTGGGTAAGAAGGTTTATTTCATAGTTAATAAGGTAGATGATGAGACAAAAGATTTAATTCGTTGAAAATGTCAATAAAGATAAGGTTATTGCAGTTATTCCAAACAATAAGGAGATTATGAAATGTGGATTAATGGGAGAGGAGTTAAATGC\", \"0\"]]\\n']"
      ]
     },
     "execution_count": 43,
     "metadata": {},
     "output_type": "execute_result"
    }
   ],
   "source": [
    "with open(FILENAME_LABELS) as f:\n",
    "    content = f.readlines()\n",
    "    \n",
    "content[:3]"
   ]
  },
  {
   "cell_type": "code",
   "execution_count": 46,
   "metadata": {},
   "outputs": [
    {
     "data": {
      "text/plain": [
       "['0',\n",
       " 'AAACCCTCTTCCACGAACCCTCTTGAAAATCCCCCACATCCACAAAATAAATCAAATAAATTTCAACATTATCACCAAAAGGGTAAAAGGTTATTTAAAAAATAAAATAAATTTAAAAATTTAAATTAAATACCAAAAAAGCCAAATAACTTATTGTGATTCTTGAGCTTTCTTTAACTCTGCCTTCATATCTTGATAGACTTTAGTCCATTTTAATTTTCTTGGATTTCTTCCCATTCTGTAGCTTTTCTCACATTTGGATGAGCAGAAATATAATACAGTCCCATCTTTTTCTACGACCATTTTTCCTTTTCCTGGCTCAATTTCATAACCACAAAAGCTGCATGTTCTCCATTCTGGCATAGCTATCCCCCTTTAATAGTGTTTCAGTGATTTTAAAATAATTTAAGATTAAATTATTTATCTTCTTCTGTCTAATGGTCTTGCTTCTCTCTCTGTTTCTCTTAACATAATAATGTCTCCAACTTTAACTGGACCTTTAACGTTTCTAACTAAAACTCTTCCAGTATCTTTTCCACCTAAGATTTTACATCTAACTTGTATAATTCCTCCAGTAACCCCTGTTCTACCAATGACTTCAATAACTTCAGCAGCTACTGCTTCCTTATAAACAAATTCATCTTCCGATCCTCATCACCTAATATTAATGAAGGTTTAAAATTTATAAAAAAGTTAGTAGTAGTGTTTCATAATTTATATAATAATAACTATATACTATTGATTGATGGTTAAATAGCGTTCTAATAATTTACTGCTTCAAAACATTTACCTTTTCAATTAATACCTTTAACTCTTCAGCATCTCCTTCGTTG',\n",
       " '0']"
      ]
     },
     "execution_count": 46,
     "metadata": {},
     "output_type": "execute_result"
    }
   ],
   "source": [
    "a = content[0]\n",
    "\n",
    "re.sub('[null\\t\\n\\[\\]\\\"\"]', '', a).replace(' ', '').split(',')"
   ]
  },
  {
   "cell_type": "code",
   "execution_count": 56,
   "metadata": {},
   "outputs": [],
   "source": [
    "def read_labels(filename_labels):\n",
    "    labels = []\n",
    "    \n",
    "    with open(filename_labels) as f:\n",
    "        content_labels = f.readlines()\n",
    "    \n",
    "    for line in content_labels:\n",
    "        clean_line = int(re.sub('[null\\t\\n\\[\\]\\\"\"]', '', line).replace(' ', '').split(',')[2])\n",
    "        labels.append(clean_line)\n",
    "    \n",
    "    return labels"
   ]
  },
  {
   "cell_type": "code",
   "execution_count": 57,
   "metadata": {},
   "outputs": [
    {
     "data": {
      "text/plain": [
       "[0, 0, 0, 0, 0]"
      ]
     },
     "execution_count": 57,
     "metadata": {},
     "output_type": "execute_result"
    }
   ],
   "source": [
    "labels = read_labels(FILENAME_LABELS)\n",
    "labels[:5]"
   ]
  },
  {
   "cell_type": "markdown",
   "metadata": {},
   "source": [
    "Evaluation command:\n",
    "```python\n",
    "y_kmer_grp_cl = assign_cluster_2_reads( GL, z_kmer_grp_cl )\n",
    "prec, rcal = evalQuality(labels, y_kmer_grp_cl, n_clusters = NUM_OF_SPECIES)\n",
    "print( 'K-mer (group): Prec = %.4f, Recall = %.4f, F1 = %.4f' % (prec, rcal, 2.0/(1.0/prec+1.0/rcal)) )\n",
    "```"
   ]
  },
  {
   "cell_type": "code",
   "execution_count": 51,
   "metadata": {},
   "outputs": [],
   "source": [
    "def assign_cluster_2_reads( groups, y_grp_cl ):\n",
    "    label_cl_dict=dict()\n",
    "\n",
    "    for idx, g in enumerate(groups):\n",
    "        for r in g:\n",
    "            label_cl_dict[r]=y_grp_cl[idx]\n",
    "    \n",
    "    y_cl=[]\n",
    "    for i in sorted (label_cl_dict):\n",
    "        y_cl.append(label_cl_dict[i])\n",
    "    print(y_cl)\n",
    "    return y_cl\n",
    "\n",
    "def evalQuality(y_true, y_pred, n_clusters=NUM_OF_SPECIES):\n",
    "    A = confusion_matrix(y_pred, y_true)\n",
    "    if len(A) == 1:\n",
    "      return 1, 1\n",
    "    prec = sum([max(A[:,j]) for j in range(0,n_clusters)])/sum([sum(A[i,:]) for i in range(0,n_clusters)])\n",
    "    rcal = sum([max(A[i,:]) for i in range(0,n_clusters)])/sum([sum(A[i,:]) for i in range(0,n_clusters)])\n",
    "\n",
    "    return prec, rcal"
   ]
  },
  {
   "cell_type": "code",
   "execution_count": 58,
   "metadata": {},
   "outputs": [
    {
     "name": "stdout",
     "output_type": "stream",
     "text": [
      "[0, 0, 1, 1, 0, 1, 0, 0, 0, 1, 1, 1, 0, 1, 0, 1, 1, 1, 1, 1, 0, 0, 1, 1, 0, 1, 1, 0, 0, 0, 0, 1, 1, 1, 1, 0, 0, 1, 0, 0, 0, 0, 1, 1, 1, 0, 1, 0, 0, 1, 0, 1, 0, 0, 0, 0, 1, 0, 0, 0, 1, 1, 1, 1, 1, 0, 0, 0, 1, 0, 0, 0, 0, 1, 1, 0, 1, 0, 1, 0, 0, 0, 0, 1, 0, 0, 1, 0, 1, 1, 0, 1, 0, 0, 0, 0, 0, 1, 0, 1, 1, 1, 1, 0, 0, 1, 1, 1, 1, 1, 0, 0, 1, 1, 1, 1, 0, 1, 1, 0, 0, 0, 1, 0, 1, 0, 1, 1, 0, 1, 0, 0, 1, 0, 0, 0, 1, 1, 1, 0, 1, 1, 0, 0, 1, 0, 0, 1, 0, 1, 1, 0, 1, 0, 0, 0, 1, 0, 0, 0, 1, 1, 1, 1, 0, 0, 1, 0, 0, 1, 1, 1, 0, 0, 0, 1, 0, 0, 0, 1, 0, 0, 0, 0, 0, 1, 1, 0, 1, 1, 1, 0, 0, 1, 0, 1, 1, 1, 0, 1, 1, 1, 1, 1, 1, 0, 0, 1, 0, 0, 0, 0, 0, 0, 0, 1, 1, 1, 0, 0, 0, 0, 0, 1, 0, 1, 1, 1, 1, 1, 0, 0, 0, 0, 0, 0, 0, 1, 1, 0, 1, 1, 0, 1, 0, 1, 1, 1, 0, 0, 0, 1, 0, 0, 0, 0, 0, 1, 1, 0, 0, 1, 1, 1, 1, 0, 1, 1, 1, 1, 0, 0, 1, 1, 1, 1, 0, 0, 0, 0, 1, 1, 0, 1, 1, 1, 0, 0, 0, 1, 1, 0, 0, 1, 0, 0, 1, 0, 0, 0, 0, 0, 1, 1, 0, 1, 1, 1, 0, 1, 0, 1, 1, 1, 0, 1, 0, 0, 1, 0, 1, 1, 1, 0, 1, 0, 0, 1, 0, 1, 0, 0, 1, 1, 0, 0, 1, 0, 0, 0, 0, 1, 0, 1, 1, 1, 1, 1, 1, 1, 0, 0, 1, 0, 0, 1, 1, 0, 0, 0, 0, 0, 0, 1, 0, 0, 0, 0, 0, 0, 0, 0, 1, 0, 0, 1, 1, 0, 0, 0, 1, 1, 1, 1, 0, 1, 0, 1, 0, 1, 0, 1, 0, 0, 1, 1, 0, 0, 0, 1, 1, 1, 0, 0, 1, 1, 1, 0, 1, 0, 0, 1, 0, 0, 0, 0, 0, 1, 0, 1, 0, 1, 0, 1, 1, 1, 0, 0, 1, 0, 1, 1, 0, 0, 0, 0, 1, 1, 1, 1, 1, 0, 0, 1, 1, 0, 1, 0, 0, 0, 1, 0, 0, 0, 0, 0, 0, 1, 0, 1, 0, 1, 0, 0, 1, 0, 0, 0, 1, 0, 0, 0, 0, 0, 1, 1, 1, 1, 0, 0, 1, 0, 1, 0, 0, 1, 0, 0, 0, 0, 0, 1, 0, 0, 0, 0, 1, 0, 0, 1, 0, 1, 0, 1, 1, 0, 0, 0, 1, 1, 0, 1, 0, 0, 1, 1, 0, 1, 1, 0, 0, 1, 0, 1, 0, 1, 1, 0, 1, 0, 1, 1, 1, 0, 0, 0, 0, 1, 1, 1, 0, 0, 0, 0, 0, 0, 1, 1, 0, 0, 1, 0, 0, 0, 1, 1, 0, 0, 0, 0, 0, 0, 1, 1, 1, 0, 0, 1, 0, 1, 0, 1, 1, 0, 0, 0, 0, 1, 0, 0, 0, 1, 0, 0, 0, 1, 0, 0, 1, 1, 0, 1, 1, 0, 0, 0, 1, 0, 0, 0, 0, 1, 0, 0, 0, 1, 1, 0, 0, 1, 1, 1, 0, 1, 1, 0, 1, 1, 1, 1, 0, 0, 0, 1, 1, 1, 0, 1, 0, 0, 0, 0, 1, 1, 0, 0, 0, 1, 0, 0, 0, 0, 0, 0, 0, 0, 1, 0, 1, 0, 1, 1, 1, 0, 0, 0, 1, 1, 1, 1, 0, 1, 1, 1, 0, 0, 1, 0, 1, 0, 0, 1, 1, 1, 0, 1, 1, 0, 1, 1, 0, 0, 1, 0, 0, 0, 1, 1, 0, 0, 1, 0, 1, 1, 0, 0, 0, 1, 1, 0, 1, 0, 0, 0, 1, 0, 1, 1, 1, 1, 0, 1, 0, 0, 0, 1, 0, 1, 1, 1, 0, 0, 0, 0, 1, 1, 0, 0, 1, 1, 1, 0, 0, 1, 1, 0, 1, 0, 0, 1, 1, 1, 0, 1, 1, 1, 0, 0, 0, 1, 1, 0, 1, 0, 0, 0, 0, 1, 0, 1, 0, 1, 1, 1, 0, 1, 0, 0, 1, 1, 0, 1, 1, 1, 0, 1, 1, 1, 1, 1, 0, 0, 1, 0, 0, 0, 1, 0, 1, 0, 0, 1, 1, 0, 1, 1, 0, 0, 0, 0, 0, 1, 1, 0, 0, 1, 1, 0, 0, 1, 1, 0, 0, 1, 0, 1, 0, 1, 0, 0, 1, 1, 1, 0, 0, 0, 0, 1, 1, 0, 0, 1, 0, 0, 1, 0, 0, 0, 0, 1, 1, 1, 1, 0, 0, 1, 0, 0, 0, 1, 0, 1, 0, 0, 0, 0, 0, 0, 1, 0, 1, 1, 0, 1, 0, 0, 1, 0, 1, 0, 1, 0, 1, 1, 0, 1, 1, 1, 1, 1, 1, 0, 0, 0, 1, 1, 1, 0, 0, 1, 0, 1, 1, 1, 1, 1, 0, 0, 1, 1, 1, 1, 1, 1, 0, 0, 1, 1, 1, 1, 1, 1, 0, 1, 1, 0, 1, 1, 1, 1, 1, 1, 1, 0, 0, 0, 0, 0, 1, 0, 1, 1, 1, 1, 0, 0, 1, 0, 1, 0, 1, 1, 0, 1, 0, 1, 1, 0, 1, 0, 0, 0, 1, 1, 1, 1, 0, 1, 0, 1, 1, 1, 1, 0, 0, 1, 1, 0, 0, 0, 0, 0, 0, 1, 0, 1, 0, 0, 1, 1, 0, 1, 1, 1, 0, 0, 0, 1, 1, 1, 1, 0, 0, 1, 0, 0, 0, 1, 1, 0, 1, 0, 1, 0, 1, 0, 1, 1, 1, 1, 0, 1, 0, 0, 0, 0, 1, 0, 1, 0, 1, 1, 0, 0, 1, 0, 1, 0, 1, 1, 0, 1, 0, 0, 0, 0, 0, 1, 1, 1, 1, 0, 1, 1, 0, 0, 1, 1, 1, 0, 1, 1, 0, 1, 1, 1, 0, 0, 1, 1, 1, 1, 1, 0, 0, 1, 1, 1, 1, 1, 0, 0, 1, 0, 0, 0, 0, 0, 0, 0, 1, 0, 0, 0, 0, 0, 0, 0, 1, 1, 1, 0, 0, 0, 1, 0, 0, 1, 1, 0, 1, 1, 1, 1, 0, 0, 0, 1, 0, 0, 0, 0, 1, 0, 1, 0, 0, 0, 0, 0, 1, 0, 1, 1, 1, 1, 0, 1, 1, 0, 1, 1, 0, 1, 0, 1, 0, 1, 1, 1, 0, 1, 1, 1, 1, 1, 1, 1, 0, 1, 1, 0, 0, 0, 1, 0, 1, 1, 1, 0, 0, 1, 0, 1, 0, 0, 0, 0, 0, 1, 1, 0, 0, 1, 0, 1, 0, 1, 1, 0, 0, 0, 1, 0, 1, 0, 1, 0, 1, 1, 0, 0, 1, 0, 0, 0, 1, 1, 0, 1, 1, 1, 1, 0, 1, 1, 0, 0, 1, 1, 0, 0, 1, 1, 1, 1, 0, 1, 0, 1, 0, 1, 1, 1, 1, 0, 1, 0, 1, 1, 0, 1, 1, 1, 1, 1, 0, 1, 1, 1, 1, 1, 0, 1, 0, 1, 1, 0, 0, 1, 0, 1, 1, 1, 0, 1, 0, 1, 0, 1, 0, 0, 0, 0, 1, 0, 1, 0, 0, 1, 0, 0, 0, 1, 0, 0, 1, 0, 0, 1, 1]\n",
      "K-mer (group): Prec = 0.5183, Recall = 0.6097, F1 = 0.5603\n"
     ]
    }
   ],
   "source": [
    "kmer_clustering = clustering(DICTIONARY_PATH, FILENAME_CORPUS, FILENAME_GL, NUM_OF_SPECIES)\n",
    "labels = read_labels(FILENAME_LABELS)\n",
    "prec, rcal = evalQuality(labels, kmer_clustering, n_clusters = NUM_OF_SPECIES)\n",
    "print( 'K-mer (group): Prec = %.4f, Recall = %.4f, F1 = %.4f' % (prec, rcal, 2.0/(1.0/prec+1.0/rcal)) )"
   ]
  },
  {
   "cell_type": "code",
   "execution_count": null,
   "metadata": {},
   "outputs": [],
   "source": []
  }
 ],
 "metadata": {
  "kernelspec": {
   "display_name": "Python 3.8.5 64-bit ('pyenv': conda)",
   "language": "python",
   "name": "python385jvsc74a57bd0d9a2243c9027780b54030878ab5705d98dd15d5bda89eb6d146a6a3b5d08db17"
  },
  "language_info": {
   "codemirror_mode": {
    "name": "ipython",
    "version": 3
   },
   "file_extension": ".py",
   "mimetype": "text/x-python",
   "name": "python",
   "nbconvert_exporter": "python",
   "pygments_lexer": "ipython3",
   "version": "3.8.5"
  }
 },
 "nbformat": 4,
 "nbformat_minor": 4
}
